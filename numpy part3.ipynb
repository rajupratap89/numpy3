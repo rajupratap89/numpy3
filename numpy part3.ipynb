{
 "cells": [
  {
   "cell_type": "code",
   "execution_count": 1,
   "id": "030c404b-85a8-434a-9227-91b1361b45b2",
   "metadata": {},
   "outputs": [],
   "source": [
    "import numpy as np"
   ]
  },
  {
   "cell_type": "code",
   "execution_count": 2,
   "id": "90d88cdb-7e9e-44cc-b79b-1c7c004fe81c",
   "metadata": {},
   "outputs": [],
   "source": [
    "ar=np.array([1,2,3,45,12,45,23,78,95,25,100])"
   ]
  },
  {
   "cell_type": "code",
   "execution_count": 3,
   "id": "cc6aa7e0-7478-4337-afb9-102cf302c920",
   "metadata": {},
   "outputs": [
    {
     "data": {
      "text/plain": [
       "array([  1,   2,   3,  45,  12,  45,  23,  78,  95,  25, 100])"
      ]
     },
     "execution_count": 3,
     "metadata": {},
     "output_type": "execute_result"
    }
   ],
   "source": [
    "ar"
   ]
  },
  {
   "cell_type": "code",
   "execution_count": 5,
   "id": "e64aa055-7416-4028-bf77-024b082a3507",
   "metadata": {},
   "outputs": [
    {
     "data": {
      "text/plain": [
       "array([  1,   2,   3,  12,  23,  25,  45,  45,  78,  95, 100])"
      ]
     },
     "execution_count": 5,
     "metadata": {},
     "output_type": "execute_result"
    }
   ],
   "source": [
    "np.sort(ar)"
   ]
  },
  {
   "cell_type": "code",
   "execution_count": 8,
   "id": "ddfb1b5c-3fd7-4d8e-94ce-16e8e419a086",
   "metadata": {},
   "outputs": [
    {
     "data": {
      "text/plain": [
       "11"
      ]
     },
     "execution_count": 8,
     "metadata": {},
     "output_type": "execute_result"
    }
   ],
   "source": [
    "np.searchsorted(ar , 200)"
   ]
  },
  {
   "cell_type": "code",
   "execution_count": 10,
   "id": "380298df-1a66-41b2-b82d-34594d0be19e",
   "metadata": {},
   "outputs": [],
   "source": [
    "ar1=np.array([0,0,12,0,45,78,25,0,0,0])"
   ]
  },
  {
   "cell_type": "code",
   "execution_count": 11,
   "id": "5be8ec31-20d2-4e3d-8b50-a0d4cb0bddb1",
   "metadata": {},
   "outputs": [
    {
     "data": {
      "text/plain": [
       "array([ 0,  0, 12,  0, 45, 78, 25,  0,  0,  0])"
      ]
     },
     "execution_count": 11,
     "metadata": {},
     "output_type": "execute_result"
    }
   ],
   "source": [
    "ar1"
   ]
  },
  {
   "cell_type": "code",
   "execution_count": 12,
   "id": "9ca0d5ab-490d-4ab3-ad29-be9891557538",
   "metadata": {},
   "outputs": [
    {
     "data": {
      "text/plain": [
       "4"
      ]
     },
     "execution_count": 12,
     "metadata": {},
     "output_type": "execute_result"
    }
   ],
   "source": [
    "np.count_nonzero(ar1)"
   ]
  },
  {
   "cell_type": "code",
   "execution_count": 13,
   "id": "fab07d6b-a206-41a5-b2a4-9867948efff9",
   "metadata": {},
   "outputs": [
    {
     "data": {
      "text/plain": [
       "array([12, 45, 78, 25])"
      ]
     },
     "execution_count": 13,
     "metadata": {},
     "output_type": "execute_result"
    }
   ],
   "source": [
    "np.extract(ar1>4 ,ar1)"
   ]
  },
  {
   "cell_type": "code",
   "execution_count": 14,
   "id": "1cf3bccb-f867-481d-adc6-2797375c1860",
   "metadata": {},
   "outputs": [],
   "source": [
    "#Byte-swaping"
   ]
  },
  {
   "cell_type": "code",
   "execution_count": 15,
   "id": "a3f49f0e-8017-4ab9-b3da-4fc95f8525b3",
   "metadata": {},
   "outputs": [
    {
     "data": {
      "text/plain": [
       "array([  1,   2,   3,  12,  23,  25,  45,  45,  78,  95, 100])"
      ]
     },
     "execution_count": 15,
     "metadata": {},
     "output_type": "execute_result"
    }
   ],
   "source": [
    "ar"
   ]
  },
  {
   "cell_type": "code",
   "execution_count": 16,
   "id": "de53d152-7bd0-411b-9bef-94feee8e69bb",
   "metadata": {},
   "outputs": [],
   "source": [
    "a=np.copy(ar)"
   ]
  },
  {
   "cell_type": "code",
   "execution_count": 18,
   "id": "7b8660d2-5937-4515-bce1-99f30e68b121",
   "metadata": {},
   "outputs": [],
   "source": [
    "b=ar.view()"
   ]
  },
  {
   "cell_type": "code",
   "execution_count": 19,
   "id": "f5ed55c9-ab8b-4377-bd84-fba632cca9a0",
   "metadata": {},
   "outputs": [
    {
     "data": {
      "text/plain": [
       "array([  1,   2,   3,  12,  23,  25,  45,  45,  78,  95, 100])"
      ]
     },
     "execution_count": 19,
     "metadata": {},
     "output_type": "execute_result"
    }
   ],
   "source": [
    "a"
   ]
  },
  {
   "cell_type": "code",
   "execution_count": 20,
   "id": "4179c5c4-a69e-44b0-8975-09417756ef8e",
   "metadata": {},
   "outputs": [
    {
     "data": {
      "text/plain": [
       "array([  1,   2,   3,  12,  23,  25,  45,  45,  78,  95, 100])"
      ]
     },
     "execution_count": 20,
     "metadata": {},
     "output_type": "execute_result"
    }
   ],
   "source": [
    "b"
   ]
  },
  {
   "cell_type": "code",
   "execution_count": 21,
   "id": "815d6d3d-e71d-4623-b6af-44e756e384ab",
   "metadata": {},
   "outputs": [],
   "source": [
    "b[0]=40"
   ]
  },
  {
   "cell_type": "code",
   "execution_count": 22,
   "id": "e1cacf4a-566d-4651-9552-39c259bbbc6f",
   "metadata": {},
   "outputs": [
    {
     "data": {
      "text/plain": [
       "array([ 40,   2,   3,  12,  23,  25,  45,  45,  78,  95, 100])"
      ]
     },
     "execution_count": 22,
     "metadata": {},
     "output_type": "execute_result"
    }
   ],
   "source": [
    "b"
   ]
  },
  {
   "cell_type": "code",
   "execution_count": 23,
   "id": "c74984c1-b41c-4d49-ab91-d190d18841a4",
   "metadata": {},
   "outputs": [],
   "source": [
    "a[0]=30"
   ]
  },
  {
   "cell_type": "code",
   "execution_count": 24,
   "id": "d2fd5bb8-0316-4a16-8ba1-0d60ca525192",
   "metadata": {},
   "outputs": [
    {
     "data": {
      "text/plain": [
       "array([ 30,   2,   3,  12,  23,  25,  45,  45,  78,  95, 100])"
      ]
     },
     "execution_count": 24,
     "metadata": {},
     "output_type": "execute_result"
    }
   ],
   "source": [
    "a"
   ]
  },
  {
   "cell_type": "code",
   "execution_count": 25,
   "id": "70a40fb0-f374-4036-872c-83390250e0eb",
   "metadata": {},
   "outputs": [],
   "source": [
    "import numpy.matlib as nm"
   ]
  },
  {
   "cell_type": "code",
   "execution_count": 26,
   "id": "67381e2d-1305-4a34-acff-4e031b4a7e62",
   "metadata": {},
   "outputs": [
    {
     "data": {
      "text/plain": [
       "matrix([[0., 0., 0., 0.]])"
      ]
     },
     "execution_count": 26,
     "metadata": {},
     "output_type": "execute_result"
    }
   ],
   "source": [
    "nm.zeros(4)"
   ]
  },
  {
   "cell_type": "code",
   "execution_count": 28,
   "id": "c8816cae-75aa-4947-a700-3d941cb9bc9e",
   "metadata": {},
   "outputs": [
    {
     "data": {
      "text/plain": [
       "matrix([[1., 1.],\n",
       "        [1., 1.],\n",
       "        [1., 1.]])"
      ]
     },
     "execution_count": 28,
     "metadata": {},
     "output_type": "execute_result"
    }
   ],
   "source": [
    "nm.ones((3,2))"
   ]
  },
  {
   "cell_type": "code",
   "execution_count": null,
   "id": "7d8f00ac-6c85-4ffb-8181-2b3c231cc84b",
   "metadata": {},
   "outputs": [],
   "source": []
  }
 ],
 "metadata": {
  "kernelspec": {
   "display_name": "Python 3 (ipykernel)",
   "language": "python",
   "name": "python3"
  },
  "language_info": {
   "codemirror_mode": {
    "name": "ipython",
    "version": 3
   },
   "file_extension": ".py",
   "mimetype": "text/x-python",
   "name": "python",
   "nbconvert_exporter": "python",
   "pygments_lexer": "ipython3",
   "version": "3.10.8"
  }
 },
 "nbformat": 4,
 "nbformat_minor": 5
}
